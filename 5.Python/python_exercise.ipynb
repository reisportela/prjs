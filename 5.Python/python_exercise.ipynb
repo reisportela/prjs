{
 "cells": [
  {
   "cell_type": "code",
   "execution_count": 8,
   "metadata": {},
   "outputs": [
    {
     "name": "stdout",
     "output_type": "stream",
     "text": [
      "/home/jovyan/GitHub/5.Python\n"
     ]
    }
   ],
   "source": [
    "## PACKAGES\n",
    "\n",
    "from linearmodels.datasets import jobtraining\n",
    "from linearmodels import RandomEffects\n",
    "from linearmodels import PanelOLS\n",
    "import statistics\n",
    "import statsmodels.formula.api as smf\n",
    "import seaborn as sns\n",
    "from statsmodels.sandbox.regression.predstd import wls_prediction_std\n",
    "import matplotlib.pyplot as plt\n",
    "import statsmodels.api as sm\n",
    "import sys\n",
    "sys.version\n",
    "import os\n",
    "import pandas as pd\n",
    "from patsy import dmatrices\n",
    "\n",
    "import numpy as np\n",
    "\n",
    "from sklearn.linear_model import LinearRegression\n",
    "\n",
    "#os.chdir(\"/Users/miguelportela/Documents/GitHub/BPLIM-Academy/VSCode\")\n",
    "\n",
    "print(os.getcwd())\n"
   ]
  },
  {
   "cell_type": "code",
   "execution_count": 10,
   "metadata": {},
   "outputs": [],
   "source": [
    "## REGRESSION EXAMPLE\n",
    "\n",
    "### in the Terminal type: wget http://www.stata-press.com/data/r8/nlsw88.dta\n",
    "\n",
    "df = pd.read_stata('data/nlsw88.dta')\n",
    "df[\"wage\"].mean()\n",
    "\n",
    "def linear_regression(df, dep_col, indep_cols):\n",
    "  lf = LinearRegression(normalize=True)\n",
    "  lf.fit(df[indep_cols.split(' ')], df[dep_col])\n",
    "\n",
    "  return lf\n",
    "\n",
    "#lr = linear_regression(df, 'wage', 'hours')\n",
    "\n",
    "#print(lr.coef_)\n",
    "\n",
    "w1 = pd.read_stata('http://qcpages.qc.cuny.edu/~rvesselinov/statadata/WAGE1.DTA')\n",
    "\n",
    "w1.to_stata('data/wage1.dta')\n"
   ]
  },
  {
   "cell_type": "code",
   "execution_count": 11,
   "metadata": {},
   "outputs": [
    {
     "name": "stdout",
     "output_type": "stream",
     "text": [
      "                            OLS Regression Results                            \n",
      "==============================================================================\n",
      "Dep. Variable:                   wage   R-squared:                       0.001\n",
      "Model:                            OLS   Adj. R-squared:                  0.001\n",
      "Method:                 Least Squares   F-statistic:                     2.939\n",
      "Date:                Sun, 07 Jun 2020   Prob (F-statistic):             0.0866\n",
      "Time:                        16:38:38   Log-Likelihood:                -7115.8\n",
      "No. Observations:                2246   AIC:                         1.424e+04\n",
      "Df Residuals:                    2244   BIC:                         1.425e+04\n",
      "Df Model:                           1                                         \n",
      "Covariance Type:            nonrobust                                         \n",
      "==============================================================================\n",
      "                 coef    std err          t      P>|t|      [0.025      0.975]\n",
      "------------------------------------------------------------------------------\n",
      "const         10.4303      1.558      6.693      0.000       7.374      13.486\n",
      "age           -0.0680      0.040     -1.714      0.087      -0.146       0.010\n",
      "==============================================================================\n",
      "Omnibus:                     1507.854   Durbin-Watson:                   1.928\n",
      "Prob(Omnibus):                  0.000   Jarque-Bera (JB):            18789.486\n",
      "Skew:                           3.082   Prob(JB):                         0.00\n",
      "Kurtosis:                      15.759   Cond. No.                         504.\n",
      "==============================================================================\n",
      "\n",
      "Warnings:\n",
      "[1] Standard Errors assume that the covariance matrix of the errors is correctly specified.\n"
     ]
    }
   ],
   "source": [
    "y=df.wage\n",
    "X=df.age\n",
    "X = sm.add_constant(X)\n",
    "model = sm.OLS(y, X)\n",
    "results = model.fit()\n",
    "print(results.summary())"
   ]
  },
  {
   "cell_type": "code",
   "execution_count": 12,
   "metadata": {},
   "outputs": [
    {
     "data": {
      "text/plain": [
       "(array([ 34., 187., 350., 321., 289., 219., 184., 147., 131., 112.,  72.,\n",
       "         33.,  30.,  22.,  23.,  14.,   5.,   7.,   2.,   4.,   3.,   4.,\n",
       "          4.,   1.,   3.,   1.,   3.,   3.,   3.,   1.,   0.,   6.,   0.,\n",
       "          0.,  11.,  17.]),\n",
       " array([ 1.0049518,  2.1088862,  3.2128205,  4.316755 ,  5.4206896,\n",
       "         6.524624 ,  7.628558 ,  8.732492 ,  9.836427 , 10.940361 ,\n",
       "        12.044295 , 13.14823  , 14.252165 , 15.356099 , 16.460033 ,\n",
       "        17.563967 , 18.667902 , 19.771837 , 20.87577  , 21.979706 ,\n",
       "        23.08364  , 24.187574 , 25.291508 , 26.395443 , 27.499376 ,\n",
       "        28.603312 , 29.707245 , 30.81118  , 31.915115 , 33.01905  ,\n",
       "        34.122982 , 35.226917 , 36.330853 , 37.434788 , 38.53872  ,\n",
       "        39.642654 , 40.74659  ], dtype=float32),\n",
       " <a list of 36 Patch objects>)"
      ]
     },
     "execution_count": 12,
     "metadata": {},
     "output_type": "execute_result"
    },
    {
     "data": {
      "image/png": "[encoded data removed]",
      "text/plain": [
       "<Figure size 432x288 with 1 Axes>"
      ]
     },
     "metadata": {
      "needs_background": "light"
     },
     "output_type": "display_data"
    }
   ],
   "source": [
    "# matplotlib histogram\n",
    "plt.hist(df['wage'], color='blue', edgecolor='black',\n",
    "         bins=int(180/5))"
   ]
  },
  {
   "cell_type": "code",
   "execution_count": 13,
   "metadata": {},
   "outputs": [
    {
     "data": {
      "text/plain": [
       "<matplotlib.axes._subplots.AxesSubplot at 0x7f104c589ed0>"
      ]
     },
     "execution_count": 13,
     "metadata": {},
     "output_type": "execute_result"
    },
    {
     "data": {
      "image/png": "[encoded data removed]",
      "text/plain": [
       "<Figure size 432x288 with 1 Axes>"
      ]
     },
     "metadata": {
      "needs_background": "light"
     },
     "output_type": "display_data"
    }
   ],
   "source": [
    "sns.distplot(df['wage'], hist=True, kde=True,\n",
    "             bins=int(180/5), color='darkblue',\n",
    "             hist_kws={'edgecolor': 'black'},\n",
    "             kde_kws={'linewidth': 4})"
   ]
  },
  {
   "cell_type": "code",
   "execution_count": 14,
   "metadata": {},
   "outputs": [
    {
     "name": "stdout",
     "output_type": "stream",
     "text": [
      "idcode           2612.654497\n",
      "age                39.153161\n",
      "never_married       0.104185\n",
      "grade              13.098930\n",
      "south               0.419412\n",
      "c_city              0.291630\n",
      "wage                7.766949\n",
      "hours              37.218109\n",
      "ttl_exp            12.534977\n",
      "tenure              5.977850\n",
      "dtype: float64\n",
      "idcode           1480.863763\n",
      "age                 3.060002\n",
      "never_married       0.305569\n",
      "grade               2.521246\n",
      "south               0.493573\n",
      "c_city              0.454614\n",
      "wage                5.755523\n",
      "hours              10.509135\n",
      "ttl_exp             4.610208\n",
      "tenure              5.510331\n",
      "dtype: float64\n",
      "            idcode          age  never_married        grade        south  \\\n",
      "count  2246.000000  2246.000000    2246.000000  2244.000000  2246.000000   \n",
      "mean   2612.654497    39.153161       0.104185    13.098930     0.419412   \n",
      "std    1480.863763     3.060002       0.305569     2.521246     0.493573   \n",
      "min       1.000000    34.000000       0.000000     0.000000     0.000000   \n",
      "25%    1366.250000    36.000000       0.000000    12.000000     0.000000   \n",
      "50%    2614.000000    39.000000       0.000000    12.000000     0.000000   \n",
      "75%    3902.250000    42.000000       0.000000    15.000000     1.000000   \n",
      "max    5159.000000    46.000000       1.000000    18.000000     1.000000   \n",
      "\n",
      "            c_city         wage        hours      ttl_exp       tenure  \n",
      "count  2246.000000  2246.000000  2242.000000  2246.000000  2231.000000  \n",
      "mean      0.291630     7.766949    37.218109    12.534977     5.977850  \n",
      "std       0.454614     5.755523    10.509135     4.610208     5.510331  \n",
      "min       0.000000     1.004952     1.000000     0.115385     0.000000  \n",
      "25%       0.000000     4.261271    35.000000     9.213141     1.583333  \n",
      "50%       0.000000     6.272270    40.000000    13.125000     3.833333  \n",
      "75%       1.000000     9.593397    40.000000    15.979167     9.333333  \n",
      "max       1.000000    40.746590    80.000000    28.884615    25.916666  \n"
     ]
    }
   ],
   "source": [
    "# DESCRIPTIVES\n",
    "\n",
    "print(df.mean())\n",
    "print(df.std())\n",
    "print(df.describe())"
   ]
  },
  {
   "cell_type": "code",
   "execution_count": 15,
   "metadata": {},
   "outputs": [
    {
     "data": {
      "text/plain": [
       "<matplotlib.axes._subplots.AxesSubplot at 0x7f104c4e5390>"
      ]
     },
     "execution_count": 15,
     "metadata": {},
     "output_type": "execute_result"
    },
    {
     "data": {
      "image/png": "[encoded data removed]",
      "text/plain": [
       "<Figure size 432x288 with 1 Axes>"
      ]
     },
     "metadata": {
      "needs_background": "light"
     },
     "output_type": "display_data"
    }
   ],
   "source": [
    "plt.hist(w1['wage'])\n",
    "ln_wage = np.log(w1['wage'])\n",
    "sns.kdeplot(ln_wage)"
   ]
  },
  {
   "cell_type": "code",
   "execution_count": 16,
   "metadata": {},
   "outputs": [
    {
     "name": "stdout",
     "output_type": "stream",
     "text": [
      "                            OLS Regression Results                            \n",
      "==============================================================================\n",
      "Dep. Variable:                   wage   R-squared:                       0.336\n",
      "Model:                            OLS   Adj. R-squared:                  0.332\n",
      "Method:                 Least Squares   F-statistic:                     88.10\n",
      "Date:                Sun, 07 Jun 2020   Prob (F-statistic):           3.89e-46\n",
      "Time:                        16:39:31   Log-Likelihood:                -305.70\n",
      "No. Observations:                 526   AIC:                             619.4\n",
      "Df Residuals:                     522   BIC:                             636.5\n",
      "Df Model:                           3                                         \n",
      "Covariance Type:            nonrobust                                         \n",
      "==============================================================================\n",
      "                 coef    std err          t      P>|t|      [0.025      0.975]\n",
      "------------------------------------------------------------------------------\n",
      "const          0.7087      0.094      7.513      0.000       0.523       0.894\n",
      "educ           0.0752      0.007     10.923      0.000       0.062       0.089\n",
      "female        -0.3278      0.039     -8.504      0.000      -0.404      -0.252\n",
      "married        0.2094      0.039      5.314      0.000       0.132       0.287\n",
      "==============================================================================\n",
      "Omnibus:                       11.885   Durbin-Watson:                   1.800\n",
      "Prob(Omnibus):                  0.003   Jarque-Bera (JB):               14.743\n",
      "Skew:                           0.247   Prob(JB):                     0.000629\n",
      "Kurtosis:                       3.655   Cond. No.                         65.5\n",
      "==============================================================================\n",
      "\n",
      "Warnings:\n",
      "[1] Standard Errors assume that the covariance matrix of the errors is correctly specified.\n"
     ]
    }
   ],
   "source": [
    "X = w1[['educ', 'female', 'married']]\n",
    "X = sm.add_constant(X)\n",
    "m3 = sm.OLS(ln_wage, X).fit()\n",
    "print(m3.summary())"
   ]
  },
  {
   "cell_type": "code",
   "execution_count": 17,
   "metadata": {},
   "outputs": [
    {
     "name": "stdout",
     "output_type": "stream",
     "text": [
      "                        RandomEffects Estimation Summary                        \n",
      "================================================================================\n",
      "Dep. Variable:                clscrap   R-squared:                        0.0165\n",
      "Estimator:              RandomEffects   R-squared (Between):              0.0314\n",
      "No. Observations:                 105   R-squared (Within):               0.0015\n",
      "Date:                Sun, Jun 07 2020   R-squared (Overall):              0.0199\n",
      "Time:                        16:39:42   Log-likelihood                   -77.721\n",
      "Cov. Estimator:            Unadjusted                                           \n",
      "                                        F-statistic:                      0.8542\n",
      "Entities:                          53   P-value                           0.4286\n",
      "Avg Obs:                       1.9811   Distribution:                   F(2,102)\n",
      "Min Obs:                       1.0000                                           \n",
      "Max Obs:                       2.0000   F-statistic (robust):             0.8634\n",
      "                                        P-value                           0.4248\n",
      "Time periods:                       2   Distribution:                   F(2,102)\n",
      "Avg Obs:                       52.500                                           \n",
      "Min Obs:                       52.000                                           \n",
      "Max Obs:                       53.000                                           \n",
      "                                                                                \n",
      "                             Parameter Estimates                              \n",
      "==============================================================================\n",
      "            Parameter  Std. Err.     T-stat    P-value    Lower CI    Upper CI\n",
      "------------------------------------------------------------------------------\n",
      "const         -0.1670     0.0892    -1.8721     0.0641     -0.3440      0.0099\n",
      "grant         -0.1471     0.1214    -1.2115     0.2285     -0.3879      0.0937\n",
      "employ        -0.0003     0.0008    -0.3893     0.6979     -0.0019      0.0013\n",
      "==============================================================================\n"
     ]
    },
    {
     "name": "stderr",
     "output_type": "stream",
     "text": [
      "/srv/conda/envs/notebook/lib/python3.7/site-packages/linearmodels/utility.py:549: MissingValueWarning: \n",
      "Inputs contain missing values. Dropping rows with missing observations.\n",
      "  warnings.warn(missing_value_warning_msg, MissingValueWarning)\n"
     ]
    }
   ],
   "source": [
    "from linearmodels.datasets import jobtraining\n",
    "data = jobtraining.load()\n",
    "year = pd.Categorical(data.year)\n",
    "data = data.set_index(['fcode', 'year'])\n",
    "data['year'] = year\n",
    "\n",
    "exog_vars = ['grant', 'employ']\n",
    "exog = sm.add_constant(data[exog_vars])\n",
    "mod = RandomEffects(data.clscrap, exog)\n",
    "re_res = mod.fit()\n",
    "print(re_res)"
   ]
  },
  {
   "cell_type": "code",
   "execution_count": 18,
   "metadata": {},
   "outputs": [
    {
     "ename": "FileNotFoundError",
     "evalue": "[Errno 2] No such file or directory: 'data/lfp.dta'",
     "output_type": "error",
     "traceback": [
      "\u001b[0;31m---------------------------------------------------------------------------\u001b[0m",
      "\u001b[0;31mFileNotFoundError\u001b[0m                         Traceback (most recent call last)",
      "\u001b[0;32m<ipython-input-18-e9897901a5a1>\u001b[0m in \u001b[0;36m<module>\u001b[0;34m\u001b[0m\n\u001b[0;32m----> 1\u001b[0;31m \u001b[0mdata_w\u001b[0m\u001b[0;34m=\u001b[0m\u001b[0mpd\u001b[0m\u001b[0;34m.\u001b[0m\u001b[0mread_stata\u001b[0m\u001b[0;34m(\u001b[0m\u001b[0;34m'data/lfp.dta'\u001b[0m\u001b[0;34m)\u001b[0m\u001b[0;34m\u001b[0m\u001b[0;34m\u001b[0m\u001b[0m\n\u001b[0m\u001b[1;32m      2\u001b[0m \u001b[0mdata_w\u001b[0m\u001b[0;34m.\u001b[0m\u001b[0mdescribe\u001b[0m\u001b[0;34m(\u001b[0m\u001b[0;34m)\u001b[0m\u001b[0;34m\u001b[0m\u001b[0;34m\u001b[0m\u001b[0m\n\u001b[1;32m      3\u001b[0m \u001b[0mmod\u001b[0m \u001b[0;34m=\u001b[0m \u001b[0msm\u001b[0m\u001b[0;34m.\u001b[0m\u001b[0mProbit\u001b[0m\u001b[0;34m.\u001b[0m\u001b[0mfrom_formula\u001b[0m\u001b[0;34m(\u001b[0m\u001b[0;34m'lfp ~ kids + lhinc + C(id)'\u001b[0m\u001b[0;34m,\u001b[0m \u001b[0mdata_w\u001b[0m\u001b[0;34m)\u001b[0m\u001b[0;34m\u001b[0m\u001b[0;34m\u001b[0m\u001b[0m\n\u001b[1;32m      4\u001b[0m \u001b[0;34m\u001b[0m\u001b[0m\n\u001b[1;32m      5\u001b[0m \u001b[0mprint\u001b[0m\u001b[0;34m(\u001b[0m\u001b[0mmod\u001b[0m\u001b[0;34m)\u001b[0m\u001b[0;34m\u001b[0m\u001b[0;34m\u001b[0m\u001b[0m\n",
      "\u001b[0;32m/srv/conda/envs/notebook/lib/python3.7/site-packages/pandas/io/stata.py\u001b[0m in \u001b[0;36mread_stata\u001b[0;34m(filepath_or_buffer, convert_dates, convert_categoricals, index_col, convert_missing, preserve_dtypes, columns, order_categoricals, chunksize, iterator)\u001b[0m\n\u001b[1;32m    184\u001b[0m         \u001b[0mcolumns\u001b[0m\u001b[0;34m=\u001b[0m\u001b[0mcolumns\u001b[0m\u001b[0;34m,\u001b[0m\u001b[0;34m\u001b[0m\u001b[0;34m\u001b[0m\u001b[0m\n\u001b[1;32m    185\u001b[0m         \u001b[0morder_categoricals\u001b[0m\u001b[0;34m=\u001b[0m\u001b[0morder_categoricals\u001b[0m\u001b[0;34m,\u001b[0m\u001b[0;34m\u001b[0m\u001b[0;34m\u001b[0m\u001b[0m\n\u001b[0;32m--> 186\u001b[0;31m         \u001b[0mchunksize\u001b[0m\u001b[0;34m=\u001b[0m\u001b[0mchunksize\u001b[0m\u001b[0;34m,\u001b[0m\u001b[0;34m\u001b[0m\u001b[0;34m\u001b[0m\u001b[0m\n\u001b[0m\u001b[1;32m    187\u001b[0m     )\n\u001b[1;32m    188\u001b[0m \u001b[0;34m\u001b[0m\u001b[0m\n",
      "\u001b[0;32m/srv/conda/envs/notebook/lib/python3.7/site-packages/pandas/io/stata.py\u001b[0m in \u001b[0;36m__init__\u001b[0;34m(self, path_or_buf, convert_dates, convert_categoricals, index_col, convert_missing, preserve_dtypes, columns, order_categoricals, chunksize)\u001b[0m\n\u001b[1;32m   1048\u001b[0m \u001b[0;34m\u001b[0m\u001b[0m\n\u001b[1;32m   1049\u001b[0m         \u001b[0;32mif\u001b[0m \u001b[0misinstance\u001b[0m\u001b[0;34m(\u001b[0m\u001b[0mpath_or_buf\u001b[0m\u001b[0;34m,\u001b[0m \u001b[0;34m(\u001b[0m\u001b[0mstr\u001b[0m\u001b[0;34m,\u001b[0m \u001b[0mbytes\u001b[0m\u001b[0;34m)\u001b[0m\u001b[0;34m)\u001b[0m\u001b[0;34m:\u001b[0m\u001b[0;34m\u001b[0m\u001b[0;34m\u001b[0m\u001b[0m\n\u001b[0;32m-> 1050\u001b[0;31m             \u001b[0mself\u001b[0m\u001b[0;34m.\u001b[0m\u001b[0mpath_or_buf\u001b[0m \u001b[0;34m=\u001b[0m \u001b[0mopen\u001b[0m\u001b[0;34m(\u001b[0m\u001b[0mpath_or_buf\u001b[0m\u001b[0;34m,\u001b[0m \u001b[0;34m\"rb\"\u001b[0m\u001b[0;34m)\u001b[0m\u001b[0;34m\u001b[0m\u001b[0;34m\u001b[0m\u001b[0m\n\u001b[0m\u001b[1;32m   1051\u001b[0m         \u001b[0;32melse\u001b[0m\u001b[0;34m:\u001b[0m\u001b[0;34m\u001b[0m\u001b[0;34m\u001b[0m\u001b[0m\n\u001b[1;32m   1052\u001b[0m             \u001b[0;31m# Copy to BytesIO, and ensure no encoding\u001b[0m\u001b[0;34m\u001b[0m\u001b[0;34m\u001b[0m\u001b[0;34m\u001b[0m\u001b[0m\n",
      "\u001b[0;31mFileNotFoundError\u001b[0m: [Errno 2] No such file or directory: 'data/lfp.dta'"
     ]
    }
   ],
   "source": [
    "data_w=pd.read_stata('data/lfp.dta')\n",
    "data_w.describe()\n",
    "mod = sm.Probit.from_formula('lfp ~ kids + lhinc + C(id)', data_w)\n",
    "\n",
    "print(mod)"
   ]
  },
  {
   "cell_type": "code",
   "execution_count": null,
   "metadata": {},
   "outputs": [],
   "source": []
  }
 ],
 "metadata": {
  "kernelspec": {
   "display_name": "Python 3",
   "language": "python",
   "name": "python3"
  },
  "language_info": {
   "codemirror_mode": {
    "name": "ipython",
    "version": 3
   },
   "file_extension": ".py",
   "mimetype": "text/x-python",
   "name": "python",
   "nbconvert_exporter": "python",
   "pygments_lexer": "ipython3",
   "version": "3.8.0"
  }
 },
 "nbformat": 4,
 "nbformat_minor": 4
}
