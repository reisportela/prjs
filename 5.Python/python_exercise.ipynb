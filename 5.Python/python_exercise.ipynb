{
 "cells": [
  {
   "cell_type": "code",
   "execution_count": 1,
   "metadata": {},
   "outputs": [
    {
     "name": "stdout",
     "output_type": "stream",
     "text": [
      "/home/jovyan/GitHub/5.Python\n"
     ]
    }
   ],
   "source": [
    "## PACKAGES\n",
    "\n",
    "from linearmodels.datasets import jobtraining\n",
    "from linearmodels import RandomEffects\n",
    "from linearmodels import PanelOLS\n",
    "import statistics\n",
    "import statsmodels.formula.api as smf\n",
    "import seaborn as sns\n",
    "from statsmodels.sandbox.regression.predstd import wls_prediction_std\n",
    "import matplotlib.pyplot as plt\n",
    "import statsmodels.api as sm\n",
    "import sys\n",
    "sys.version\n",
    "import os\n",
    "import pandas as pd\n",
    "from patsy import dmatrices\n",
    "\n",
    "import numpy as np\n",
    "\n",
    "from sklearn.linear_model import LinearRegression\n",
    "\n",
    "#os.chdir(\"/Users/miguelportela/Documents/GitHub/BPLIM-Academy/VSCode\")\n",
    "\n",
    "print(os.getcwd())\n"
   ]
  },
  {
   "cell_type": "code",
   "execution_count": 2,
   "metadata": {},
   "outputs": [],
   "source": [
    "## REGRESSION EXAMPLE\n",
    "\n",
    "### in the Terminal type: wget http://www.stata-press.com/data/r8/nlsw88.dta\n",
    "\n",
    "df = pd.read_stata('data/nlsw88.dta')\n",
    "df[\"wage\"].mean()\n",
    "\n",
    "def linear_regression(df, dep_col, indep_cols):\n",
    "  lf = LinearRegression(normalize=True)\n",
    "  lf.fit(df[indep_cols.split(' ')], df[dep_col])\n",
    "\n",
    "  return lf\n",
    "\n",
    "#lr = linear_regression(df, 'wage', 'hours')\n",
    "\n",
    "#print(lr.coef_)\n",
    "\n",
    "w1 = pd.read_stata('http://qcpages.qc.cuny.edu/~rvesselinov/statadata/WAGE1.DTA')\n",
    "\n",
    "w1.to_stata('data/wage1.dta')\n"
   ]
  },
  {
   "cell_type": "code",
   "execution_count": 3,
   "metadata": {},
   "outputs": [
    {
     "name": "stdout",
     "output_type": "stream",
     "text": [
      "                            OLS Regression Results                            \n",
      "==============================================================================\n",
      "Dep. Variable:                   wage   R-squared:                       0.000\n",
      "Model:                            OLS   Adj. R-squared:                 -0.001\n",
      "Method:                 Least Squares   F-statistic:                 0.0002592\n",
      "Date:                Sun, 07 Jun 2020   Prob (F-statistic):              0.987\n",
      "Time:                        16:54:42   Log-Likelihood:                -5262.0\n",
      "No. Observations:                1848   AIC:                         1.053e+04\n",
      "Df Residuals:                    1846   BIC:                         1.054e+04\n",
      "Df Model:                           1                                         \n",
      "Covariance Type:            nonrobust                                         \n",
      "==============================================================================\n",
      "                 coef    std err          t      P>|t|      [0.025      0.975]\n",
      "------------------------------------------------------------------------------\n",
      "const          7.5835      1.256      6.037      0.000       5.120      10.047\n",
      "age            0.0006      0.032      0.018      0.986      -0.062       0.063\n",
      "==============================================================================\n",
      "Omnibus:                      685.430   Durbin-Watson:                   1.842\n",
      "Prob(Omnibus):                  0.000   Jarque-Bera (JB):             3104.492\n",
      "Skew:                           1.729   Prob(JB):                         0.00\n",
      "Kurtosis:                       8.326   Cond. No.                         509.\n",
      "==============================================================================\n",
      "\n",
      "Warnings:\n",
      "[1] Standard Errors assume that the covariance matrix of the errors is correctly specified.\n"
     ]
    }
   ],
   "source": [
    "y=df.wage\n",
    "X=df.age\n",
    "X = sm.add_constant(X)\n",
    "model = sm.OLS(y, X)\n",
    "results = model.fit()\n",
    "print(results.summary())"
   ]
  },
  {
   "cell_type": "code",
   "execution_count": 4,
   "metadata": {},
   "outputs": [
    {
     "data": {
      "text/plain": [
       "(array([ 30., 171., 233., 243., 240., 180., 158., 134., 118., 112.,  68.,\n",
       "         34.,  21.,  28.,  21.,  15.,   7.,   7.,   5.,   3.,   3.,   2.,\n",
       "          5.,   3.,   0.,   3.,   1.,   1.,   1.,   0.,   0.,   0.,   0.,\n",
       "          0.,   0.,   1.]),\n",
       " array([ 1.3446048,  2.3969975,  3.44939  ,  4.5017824,  5.554175 ,\n",
       "         6.6065674,  7.65896  ,  8.711352 ,  9.763745 , 10.816137 ,\n",
       "        11.86853  , 12.920922 , 13.973315 , 15.025707 , 16.0781   ,\n",
       "        17.130493 , 18.182886 , 19.235277 , 20.28767  , 21.340063 ,\n",
       "        22.392456 , 23.444847 , 24.49724  , 25.549633 , 26.602026 ,\n",
       "        27.654419 , 28.70681  , 29.759203 , 30.811596 , 31.863989 ,\n",
       "        32.91638  , 33.968773 , 35.021164 , 36.07356  , 37.12595  ,\n",
       "        38.178345 , 39.230736 ], dtype=float32),\n",
       " <a list of 36 Patch objects>)"
      ]
     },
     "execution_count": 4,
     "metadata": {},
     "output_type": "execute_result"
    },
    {
     "data": {
      "image/png": "[encoded data removed]",
      "text/plain": [
       "<Figure size 432x288 with 1 Axes>"
      ]
     },
     "metadata": {
      "needs_background": "light"
     },
     "output_type": "display_data"
    }
   ],
   "source": [
    "# matplotlib histogram\n",
    "plt.hist(df['wage'], color='blue', edgecolor='black',\n",
    "         bins=int(180/5))"
   ]
  },
  {
   "cell_type": "code",
   "execution_count": 5,
   "metadata": {},
   "outputs": [
    {
     "data": {
      "text/plain": [
       "<matplotlib.axes._subplots.AxesSubplot at 0x7f2abf2dfa50>"
      ]
     },
     "execution_count": 5,
     "metadata": {},
     "output_type": "execute_result"
    },
    {
     "data": {
      "image/png": "[encoded data removed]",
      "text/plain": [
       "<Figure size 432x288 with 1 Axes>"
      ]
     },
     "metadata": {
      "needs_background": "light"
     },
     "output_type": "display_data"
    }
   ],
   "source": [
    "sns.distplot(df['wage'], hist=True, kde=True,\n",
    "             bins=int(180/5), color='darkblue',\n",
    "             hist_kws={'edgecolor': 'black'},\n",
    "             kde_kws={'linewidth': 4})"
   ]
  },
  {
   "cell_type": "code",
   "execution_count": 6,
   "metadata": {},
   "outputs": [
    {
     "name": "stdout",
     "output_type": "stream",
     "text": [
      "idcode           2614.383658\n",
      "age                39.214286\n",
      "never_married       0.108766\n",
      "grade              13.172078\n",
      "south               0.424242\n",
      "c_city              0.293831\n",
      "wage                7.605970\n",
      "hours              37.619048\n",
      "ttl_exp            12.861780\n",
      "tenure              6.582882\n",
      "rmiss               0.000000\n",
      "dtype: float64\n",
      "idcode           1486.310355\n",
      "age                 3.041416\n",
      "never_married       0.311430\n",
      "grade               2.550548\n",
      "south               0.494361\n",
      "c_city              0.455639\n",
      "wage                4.173447\n",
      "hours               9.957783\n",
      "ttl_exp             4.576879\n",
      "tenure              5.631957\n",
      "rmiss               0.000000\n",
      "dtype: float64\n",
      "            idcode          age  never_married        grade        south  \\\n",
      "count  1848.000000  1848.000000    1848.000000  1848.000000  1848.000000   \n",
      "mean   2614.383658    39.214286       0.108766    13.172078     0.424242   \n",
      "std    1486.310355     3.041416       0.311430     2.550548     0.494361   \n",
      "min       1.000000    34.000000       0.000000     0.000000     0.000000   \n",
      "25%    1353.500000    37.000000       0.000000    12.000000     0.000000   \n",
      "50%    2660.000000    39.000000       0.000000    12.000000     0.000000   \n",
      "75%    3894.500000    42.000000       0.000000    15.000000     1.000000   \n",
      "max    5159.000000    46.000000       1.000000    18.000000     1.000000   \n",
      "\n",
      "            c_city         wage        hours      ttl_exp       tenure   rmiss  \n",
      "count  1848.000000  1848.000000  1848.000000  1848.000000  1848.000000  1848.0  \n",
      "mean      0.293831     7.605970    37.619048    12.861780     6.582882     0.0  \n",
      "std       0.455639     4.173447     9.957783     4.576879     5.631957     0.0  \n",
      "min       0.000000     1.344605     1.000000     0.403846     0.000000     0.0  \n",
      "25%       0.000000     4.629630    35.000000     9.615385     1.916667     0.0  \n",
      "50%       0.000000     6.634459    40.000000    13.464743     4.666667     0.0  \n",
      "75%       1.000000     9.758451    40.000000    16.269230     9.937500     0.0  \n",
      "max       1.000000    39.230736    80.000000    28.884615    25.916666     0.0  \n"
     ]
    }
   ],
   "source": [
    "# DESCRIPTIVES\n",
    "\n",
    "print(df.mean())\n",
    "print(df.std())\n",
    "print(df.describe())"
   ]
  },
  {
   "cell_type": "code",
   "execution_count": 7,
   "metadata": {},
   "outputs": [
    {
     "data": {
      "text/plain": [
       "<matplotlib.axes._subplots.AxesSubplot at 0x7f2a009e0910>"
      ]
     },
     "execution_count": 7,
     "metadata": {},
     "output_type": "execute_result"
    },
    {
     "data": {
      "image/png": "[encoded data removed]",
      "text/plain": [
       "<Figure size 432x288 with 1 Axes>"
      ]
     },
     "metadata": {
      "needs_background": "light"
     },
     "output_type": "display_data"
    }
   ],
   "source": [
    "plt.hist(w1['wage'])\n",
    "ln_wage = np.log(w1['wage'])\n",
    "sns.kdeplot(ln_wage)"
   ]
  },
  {
   "cell_type": "code",
   "execution_count": 8,
   "metadata": {},
   "outputs": [
    {
     "name": "stdout",
     "output_type": "stream",
     "text": [
      "                            OLS Regression Results                            \n",
      "==============================================================================\n",
      "Dep. Variable:                   wage   R-squared:                       0.336\n",
      "Model:                            OLS   Adj. R-squared:                  0.332\n",
      "Method:                 Least Squares   F-statistic:                     88.10\n",
      "Date:                Sun, 07 Jun 2020   Prob (F-statistic):           3.89e-46\n",
      "Time:                        16:54:58   Log-Likelihood:                -305.70\n",
      "No. Observations:                 526   AIC:                             619.4\n",
      "Df Residuals:                     522   BIC:                             636.5\n",
      "Df Model:                           3                                         \n",
      "Covariance Type:            nonrobust                                         \n",
      "==============================================================================\n",
      "                 coef    std err          t      P>|t|      [0.025      0.975]\n",
      "------------------------------------------------------------------------------\n",
      "const          0.7087      0.094      7.513      0.000       0.523       0.894\n",
      "educ           0.0752      0.007     10.923      0.000       0.062       0.089\n",
      "female        -0.3278      0.039     -8.504      0.000      -0.404      -0.252\n",
      "married        0.2094      0.039      5.314      0.000       0.132       0.287\n",
      "==============================================================================\n",
      "Omnibus:                       11.885   Durbin-Watson:                   1.800\n",
      "Prob(Omnibus):                  0.003   Jarque-Bera (JB):               14.743\n",
      "Skew:                           0.247   Prob(JB):                     0.000629\n",
      "Kurtosis:                       3.655   Cond. No.                         65.5\n",
      "==============================================================================\n",
      "\n",
      "Warnings:\n",
      "[1] Standard Errors assume that the covariance matrix of the errors is correctly specified.\n"
     ]
    }
   ],
   "source": [
    "X = w1[['educ', 'female', 'married']]\n",
    "X = sm.add_constant(X)\n",
    "m3 = sm.OLS(ln_wage, X).fit()\n",
    "print(m3.summary())"
   ]
  },
  {
   "cell_type": "code",
   "execution_count": 9,
   "metadata": {},
   "outputs": [
    {
     "name": "stdout",
     "output_type": "stream",
     "text": [
      "                        RandomEffects Estimation Summary                        \n",
      "================================================================================\n",
      "Dep. Variable:                clscrap   R-squared:                        0.0165\n",
      "Estimator:              RandomEffects   R-squared (Between):              0.0314\n",
      "No. Observations:                 105   R-squared (Within):               0.0015\n",
      "Date:                Sun, Jun 07 2020   R-squared (Overall):              0.0199\n",
      "Time:                        16:55:02   Log-likelihood                   -77.721\n",
      "Cov. Estimator:            Unadjusted                                           \n",
      "                                        F-statistic:                      0.8542\n",
      "Entities:                          53   P-value                           0.4286\n",
      "Avg Obs:                       1.9811   Distribution:                   F(2,102)\n",
      "Min Obs:                       1.0000                                           \n",
      "Max Obs:                       2.0000   F-statistic (robust):             0.8634\n",
      "                                        P-value                           0.4248\n",
      "Time periods:                       2   Distribution:                   F(2,102)\n",
      "Avg Obs:                       52.500                                           \n",
      "Min Obs:                       52.000                                           \n",
      "Max Obs:                       53.000                                           \n",
      "                                                                                \n",
      "                             Parameter Estimates                              \n",
      "==============================================================================\n",
      "            Parameter  Std. Err.     T-stat    P-value    Lower CI    Upper CI\n",
      "------------------------------------------------------------------------------\n",
      "const         -0.1670     0.0892    -1.8721     0.0641     -0.3440      0.0099\n",
      "grant         -0.1471     0.1214    -1.2115     0.2285     -0.3879      0.0937\n",
      "employ        -0.0003     0.0008    -0.3893     0.6979     -0.0019      0.0013\n",
      "==============================================================================\n"
     ]
    },
    {
     "name": "stderr",
     "output_type": "stream",
     "text": [
      "/srv/conda/envs/notebook/lib/python3.7/site-packages/linearmodels/utility.py:549: MissingValueWarning: \n",
      "Inputs contain missing values. Dropping rows with missing observations.\n",
      "  warnings.warn(missing_value_warning_msg, MissingValueWarning)\n"
     ]
    }
   ],
   "source": [
    "from linearmodels.datasets import jobtraining\n",
    "data = jobtraining.load()\n",
    "year = pd.Categorical(data.year)\n",
    "data = data.set_index(['fcode', 'year'])\n",
    "data['year'] = year\n",
    "\n",
    "exog_vars = ['grant', 'employ']\n",
    "exog = sm.add_constant(data[exog_vars])\n",
    "mod = RandomEffects(data.clscrap, exog)\n",
    "re_res = mod.fit()\n",
    "print(re_res)"
   ]
  },
  {
   "cell_type": "code",
   "execution_count": null,
   "metadata": {},
   "outputs": [],
   "source": [
    "data_w=pd.read_stata('data/lfp.dta')\n",
    "data_w.describe()\n",
    "\n",
    "#mod = sm.Probit.from_formula('lfp ~ kids + lhinc + C(id)', data_w)\n",
    "#print(mod)\n"
   ]
  },
  {
   "cell_type": "code",
   "execution_count": null,
   "metadata": {},
   "outputs": [],
   "source": [
    "ols1 = smf.ols('np.log(wage)~collgrad+married',data=df).fit()\n",
    "print(ols1.summary())"
   ]
  },
  {
   "cell_type": "code",
   "execution_count": null,
   "metadata": {},
   "outputs": [],
   "source": [
    "nlswork = pd.read_stata('data/nlswork.dta')\n",
    "m1 = smf.ols('ln_wage~collgrad+ttl_exp', data=nlswork).fit()\n",
    "print(m1.summary())"
   ]
  }
 ],
 "metadata": {
  "kernelspec": {
   "display_name": "Python 3",
   "language": "python",
   "name": "python3"
  },
  "language_info": {
   "codemirror_mode": {
    "name": "ipython",
    "version": 3
   },
   "file_extension": ".py",
   "mimetype": "text/x-python",
   "name": "python",
   "nbconvert_exporter": "python",
   "pygments_lexer": "ipython3",
   "version": "3.7.6"
  }
 },
 "nbformat": 4,
 "nbformat_minor": 4
}
