{
 "cells": [
  {
   "cell_type": "code",
   "execution_count": 5,
   "metadata": {},
   "outputs": [],
   "source": [
    "## R Session with Jupiter\n",
    "## BPLIM Academy\n",
    "## May 6, 2020\n",
    "## M Portela"
   ]
  },
  {
   "cell_type": "code",
   "execution_count": 3,
   "metadata": {},
   "outputs": [],
   "source": [
    "rm(list = ls())"
   ]
  },
  {
   "cell_type": "code",
   "execution_count": 2,
   "metadata": {},
   "outputs": [
    {
     "data": {
      "text/html": [
       "'/Users/miguelportela/Documents/GitHub/prjs'"
      ],
      "text/latex": [
       "'/Users/miguelportela/Documents/GitHub/prjs'"
      ],
      "text/markdown": [
       "'/Users/miguelportela/Documents/GitHub/prjs'"
      ],
      "text/plain": [
       "[1] \"/Users/miguelportela/Documents/GitHub/prjs\""
      ]
     },
     "metadata": {},
     "output_type": "display_data"
    }
   ],
   "source": [
    "getwd()"
   ]
  },
  {
   "cell_type": "code",
   "execution_count": 1,
   "metadata": {},
   "outputs": [
    {
     "data": {
      "text/plain": [
       "               _                           \n",
       "platform       x86_64-apple-darwin17.0     \n",
       "arch           x86_64                      \n",
       "os             darwin17.0                  \n",
       "system         x86_64, darwin17.0          \n",
       "status                                     \n",
       "major          4                           \n",
       "minor          0.0                         \n",
       "year           2020                        \n",
       "month          04                          \n",
       "day            24                          \n",
       "svn rev        78286                       \n",
       "language       R                           \n",
       "version.string R version 4.0.0 (2020-04-24)\n",
       "nickname       Arbor Day                   "
      ]
     },
     "metadata": {},
     "output_type": "display_data"
    }
   ],
   "source": [
    "version"
   ]
  },
  {
   "cell_type": "code",
   "execution_count": 10,
   "metadata": {},
   "outputs": [],
   "source": [
    "## 1. libraries\n",
    "library(haven)"
   ]
  },
  {
   "cell_type": "code",
   "execution_count": 13,
   "metadata": {},
   "outputs": [],
   "source": [
    "## 2. data\n",
    "nlsw88 <- read_dta(\"data/nlsw88.dta\")\n",
    "nlswwork <- read_dta(\"data/nlswork.dta\")"
   ]
  },
  {
   "cell_type": "code",
   "execution_count": 16,
   "metadata": {},
   "outputs": [
    {
     "data": {
      "text/plain": [
       "     idcode          year          birth_yr          age             race      \n",
       " Min.   :   1   Min.   :68.00   Min.   :41.00   Min.   :14.00   Min.   :1.000  \n",
       " 1st Qu.:1327   1st Qu.:72.00   1st Qu.:46.00   1st Qu.:23.00   1st Qu.:1.000  \n",
       " Median :2606   Median :78.00   Median :48.00   Median :28.00   Median :1.000  \n",
       " Mean   :2601   Mean   :77.96   Mean   :48.09   Mean   :29.05   Mean   :1.303  \n",
       " 3rd Qu.:3881   3rd Qu.:83.00   3rd Qu.:51.00   3rd Qu.:34.00   3rd Qu.:2.000  \n",
       " Max.   :5159   Max.   :88.00   Max.   :54.00   Max.   :46.00   Max.   :3.000  \n",
       "                                                NA's   :24                     \n",
       "      msp            nev_mar           grade          collgrad    \n",
       " Min.   :0.0000   Min.   :0.0000   Min.   : 0.00   Min.   :0.000  \n",
       " 1st Qu.:0.0000   1st Qu.:0.0000   1st Qu.:12.00   1st Qu.:0.000  \n",
       " Median :1.0000   Median :0.0000   Median :12.00   Median :0.000  \n",
       " Mean   :0.6029   Mean   :0.2297   Mean   :12.53   Mean   :0.168  \n",
       " 3rd Qu.:1.0000   3rd Qu.:0.0000   3rd Qu.:14.00   3rd Qu.:0.000  \n",
       " Max.   :1.0000   Max.   :1.0000   Max.   :18.00   Max.   :1.000  \n",
       " NA's   :16       NA's   :16       NA's   :2                      \n",
       "    not_smsa          c_city           south           ind_code     \n",
       " Min.   :0.0000   Min.   :0.0000   Min.   :0.0000   Min.   : 1.000  \n",
       " 1st Qu.:0.0000   1st Qu.:0.0000   1st Qu.:0.0000   1st Qu.: 5.000  \n",
       " Median :0.0000   Median :0.0000   Median :0.0000   Median : 7.000  \n",
       " Mean   :0.2824   Mean   :0.3572   Mean   :0.4096   Mean   : 7.693  \n",
       " 3rd Qu.:1.0000   3rd Qu.:1.0000   3rd Qu.:1.0000   3rd Qu.:11.000  \n",
       " Max.   :1.0000   Max.   :1.0000   Max.   :1.0000   Max.   :12.000  \n",
       " NA's   :8        NA's   :8        NA's   :8        NA's   :341     \n",
       "    occ_code          union           wks_ue          ttl_exp      \n",
       " Min.   : 1.000   Min.   :0.000   Min.   : 0.000   Min.   : 0.000  \n",
       " 1st Qu.: 3.000   1st Qu.:0.000   1st Qu.: 0.000   1st Qu.: 2.462  \n",
       " Median : 3.000   Median :0.000   Median : 0.000   Median : 5.058  \n",
       " Mean   : 4.778   Mean   :0.234   Mean   : 2.548   Mean   : 6.215  \n",
       " 3rd Qu.: 6.000   3rd Qu.:0.000   3rd Qu.: 0.000   3rd Qu.: 9.128  \n",
       " Max.   :13.000   Max.   :1.000   Max.   :76.000   Max.   :28.885  \n",
       " NA's   :121      NA's   :9296    NA's   :5704                     \n",
       "     tenure           hours           wks_work         ln_wage     \n",
       " Min.   : 0.000   Min.   :  1.00   Min.   :  0.00   Min.   :0.000  \n",
       " 1st Qu.: 0.500   1st Qu.: 35.00   1st Qu.: 36.00   1st Qu.:1.361  \n",
       " Median : 1.667   Median : 40.00   Median : 52.00   Median :1.641  \n",
       " Mean   : 3.124   Mean   : 36.56   Mean   : 53.99   Mean   :1.675  \n",
       " 3rd Qu.: 4.167   3rd Qu.: 40.00   3rd Qu.: 72.00   3rd Qu.:1.964  \n",
       " Max.   :25.917   Max.   :168.00   Max.   :104.00   Max.   :5.264  \n",
       " NA's   :433      NA's   :67       NA's   :703                     "
      ]
     },
     "metadata": {},
     "output_type": "display_data"
    }
   ],
   "source": [
    "## 3. statistics\n",
    "summary(nlswwork)"
   ]
  },
  {
   "cell_type": "code",
   "execution_count": null,
   "metadata": {},
   "outputs": [],
   "source": []
  }
 ],
 "metadata": {
  "kernelspec": {
   "display_name": "R",
   "language": "R",
   "name": "ir"
  },
  "language_info": {
   "codemirror_mode": "r",
   "file_extension": ".r",
   "mimetype": "text/x-r-source",
   "name": "R",
   "pygments_lexer": "r",
   "version": "4.0.0"
  }
 },
 "nbformat": 4,
 "nbformat_minor": 4
}
