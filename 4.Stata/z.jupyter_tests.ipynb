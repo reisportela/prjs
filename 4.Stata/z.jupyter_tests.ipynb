{
 "cells": [
  {
   "cell_type": "code",
   "execution_count": 1,
   "metadata": {},
   "outputs": [
    {
     "name": "stdout",
     "output_type": "stream",
     "text": [
      "(NLSW, 1988 extract)\n"
     ]
    }
   ],
   "source": [
    "sysuse nlsw88"
   ]
  },
  {
   "cell_type": "code",
   "execution_count": 2,
   "metadata": {},
   "outputs": [
    {
     "name": "stdout",
     "output_type": "stream",
     "text": [
      "\n",
      "    Variable |        Obs        Mean    Std. Dev.       Min        Max\n",
      "-------------+---------------------------------------------------------\n",
      "      idcode |      2,246    2612.654    1480.864          1       5159\n",
      "         age |      2,246    39.15316    3.060002         34         46\n",
      "        race |      2,246    1.282725    .4754413          1          3\n",
      "     married |      2,246    .6420303    .4795099          0          1\n",
      "never_marr~d |      2,246    .1041852    .3055687          0          1\n",
      "-------------+---------------------------------------------------------\n",
      "       grade |      2,244    13.09893    2.521246          0         18\n",
      "    collgrad |      2,246    .2368655    .4252538          0          1\n",
      "       south |      2,246    .4194123    .4935728          0          1\n",
      "        smsa |      2,246    .7039181    .4566292          0          1\n",
      "      c_city |      2,246    .2916296    .4546139          0          1\n",
      "-------------+---------------------------------------------------------\n",
      "    industry |      2,232    8.189516    3.010875          1         12\n",
      "  occupation |      2,237    4.642825    3.408897          1         13\n",
      "       union |      1,878    .2454739    .4304825          0          1\n",
      "        wage |      2,246    7.766949    5.755523   1.004952   40.74659\n",
      "       hours |      2,242    37.21811    10.50914          1         80\n",
      "-------------+---------------------------------------------------------\n",
      "     ttl_exp |      2,246    12.53498    4.610208   .1153846   28.88461\n",
      "      tenure |      2,231     5.97785    5.510331          0   25.91667\n"
     ]
    }
   ],
   "source": [
    "sum"
   ]
  },
  {
   "cell_type": "code",
   "execution_count": 4,
   "metadata": {},
   "outputs": [],
   "source": [
    "gen lnwage = ln(wage)"
   ]
  },
  {
   "cell_type": "code",
   "execution_count": 6,
   "metadata": {},
   "outputs": [],
   "source": [
    "ren ttl_exp exper\n",
    "gen exper2 = exper^2"
   ]
  },
  {
   "cell_type": "code",
   "execution_count": 7,
   "metadata": {},
   "outputs": [
    {
     "name": "stdout",
     "output_type": "stream",
     "text": [
      "\n",
      "      Source |       SS           df       MS      Number of obs   =     2,246\n",
      "-------------+----------------------------------   F(3, 2242)      =    222.10\n",
      "       Model |  169.805732         3  56.6019106   Prob > F        =    0.0000\n",
      "    Residual |  571.363377     2,242  .254845396   R-squared       =    0.2291\n",
      "-------------+----------------------------------   Adj R-squared   =    0.2281\n",
      "       Total |  741.169109     2,245  .330142142   Root MSE        =    .50482\n",
      "\n",
      "------------------------------------------------------------------------------\n",
      "      lnwage |      Coef.   Std. Err.      t    P>|t|     [95% Conf. Interval]\n",
      "-------------+----------------------------------------------------------------\n",
      "    collgrad |   .3753812   .0253248    14.82   0.000     .3257187    .4250436\n",
      "       exper |   .0682494   .0100214     6.81   0.000     .0485971    .0879016\n",
      "      exper2 |  -.0010034   .0004054    -2.47   0.013    -.0017985   -.0002083\n",
      "       _cons |   1.103198   .0582259    18.95   0.000     .9890156     1.21738\n",
      "------------------------------------------------------------------------------\n"
     ]
    }
   ],
   "source": [
    "reg lnwage collgrad exper exper2"
   ]
  },
  {
   "cell_type": "code",
   "execution_count": 5,
   "metadata": {},
   "outputs": [
    {
     "data": {
      "application/pdf": "[encoded data removed]",
      "image/svg+xml": [
       "<?xml version=\"1.0\" encoding=\"UTF-8\" standalone=\"no\"?>\n",
       "<!-- This is a Stata 15.1 generated SVG file (http://www.stata.com) -->\n",
       "\n",
       "<svg version=\"1.1\" width=\"600px\" height=\"436px\" viewBox=\"0 0 3960 2880\" xmlns=\"http://www.w3.org/2000/svg\" xmlns:xlink=\"http://www.w3.org/1999/xlink\">\n",
       "\t<desc>Stata Graph - Graph</desc>\n",
       "\t<rect x=\"0\" y=\"0\" width=\"3960\" height=\"2880\" style=\"fill:#EAF2F3;stroke:none\"/>\n",
       "\t<rect x=\"0.00\" y=\"0.00\" width=\"3959.88\" height=\"2880.00\" style=\"fill:#EAF2F3\"/>\n",
       "\t<rect x=\"2.88\" y=\"2.88\" width=\"3954.12\" height=\"2874.24\" style=\"fill:none;stroke:#EAF2F3;stroke-width:5.76\"/>\n",
       "\t<rect x=\"390.80\" y=\"275.35\" width=\"3468.22\" height=\"2099.36\" style=\"fill:#FFFFFF\"/>\n",
       "\t<rect x=\"393.68\" y=\"278.23\" width=\"3462.46\" height=\"2093.60\" style=\"fill:none;stroke:#FFFFFF;stroke-width:5.76\"/>\n",
       "\t<line x1=\"390.80\" y1=\"2311.35\" x2=\"3859.02\" y2=\"2311.35\" style=\"stroke:#EAF2F3;stroke-width:8.64\"/>\n",
       "\t<line x1=\"390.80\" y1=\"1818.19\" x2=\"3859.02\" y2=\"1818.19\" style=\"stroke:#EAF2F3;stroke-width:8.64\"/>\n",
       "\t<line x1=\"390.80\" y1=\"1325.03\" x2=\"3859.02\" y2=\"1325.03\" style=\"stroke:#EAF2F3;stroke-width:8.64\"/>\n",
       "\t<line x1=\"390.80\" y1=\"831.87\" x2=\"3859.02\" y2=\"831.87\" style=\"stroke:#EAF2F3;stroke-width:8.64\"/>\n",
       "\t<path d=\" M454.04 2306.40 L519.25 2303.06 L584.47 2301.82 L649.56 2299.72 L714.78 2297.74 L779.87 2289.94 L845.09 2279.17 L910.30 2259.50 L975.40 2237.22 L1040.61 2220.39 L1105.83 2199.97 L1170.92 2156.04 L1236.14 2023.00 L1301.23 1841.46 L1366.45 1618.58 L1431.66 1427.13 L1496.76 1290.75 L1561.97 1172.20 L1627.19 1065.89 L1692.28 937.06 L1757.50 815.66 L1822.59 722.10 L1887.81 684.98 L1953.02 652.18 L2018.12 670.37 L2083.33 693.76 L2148.55 750.20 L2213.64 824.20 L2278.86 870.11 L2343.95 908.72 L2409.16 962.19 L2474.38 1054.51 L2539.47 1228.88 L2604.69 1454.48 L2669.91 1664.12 L2735.00 1837.87 L2800.22 1954.57 L2865.43 2035.50 L2930.52 2110.25 L2995.74 2170.52 L3060.83 2212.10 L3126.05 2228.44 L3191.26 2233.39 L3256.36 2237.22 L3321.57 2238.58 L3386.79 2211.36 L3451.88 2190.44 L3517.10 2193.41 L3582.19 2211.73 L3647.41 2246.88\" stroke-linecap=\"round\" stroke-linejoin=\"round\" style=\"fill:none;stroke:#1A476F;stroke-width:8.64\"/>\n",
       "\t<line x1=\"390.80\" y1=\"2374.71\" x2=\"390.80\" y2=\"275.35\" style=\"stroke:#000000;stroke-width:5.76\"/>\n",
       "\t<line x1=\"390.80\" y1=\"2311.35\" x2=\"350.83\" y2=\"2311.35\" style=\"stroke:#000000;stroke-width:5.76\"/>\n",
       "\t<text x=\"300.72\" y=\"2311.35\" style=\"font-family:'Helvetica';font-size:99.99px;fill:#000000\" transform=\"rotate(-90 300.72,2311.35)\" text-anchor=\"middle\">0</text>\n",
       "\t<line x1=\"390.80\" y1=\"1818.19\" x2=\"350.83\" y2=\"1818.19\" style=\"stroke:#000000;stroke-width:5.76\"/>\n",
       "\t<text x=\"300.72\" y=\"1818.19\" style=\"font-family:'Helvetica';font-size:99.99px;fill:#000000\" transform=\"rotate(-90 300.72,1818.19)\" text-anchor=\"middle\">.2</text>\n",
       "\t<line x1=\"390.80\" y1=\"1325.03\" x2=\"350.83\" y2=\"1325.03\" style=\"stroke:#000000;stroke-width:5.76\"/>\n",
       "\t<text x=\"300.72\" y=\"1325.03\" style=\"font-family:'Helvetica';font-size:99.99px;fill:#000000\" transform=\"rotate(-90 300.72,1325.03)\" text-anchor=\"middle\">.4</text>\n",
       "\t<line x1=\"390.80\" y1=\"831.87\" x2=\"350.83\" y2=\"831.87\" style=\"stroke:#000000;stroke-width:5.76\"/>\n",
       "\t<text x=\"300.72\" y=\"831.87\" style=\"font-family:'Helvetica';font-size:99.99px;fill:#000000\" transform=\"rotate(-90 300.72,831.87)\" text-anchor=\"middle\">.6</text>\n",
       "\t<line x1=\"390.80\" y1=\"338.71\" x2=\"350.83\" y2=\"338.71\" style=\"stroke:#000000;stroke-width:5.76\"/>\n",
       "\t<text x=\"300.72\" y=\"338.71\" style=\"font-family:'Helvetica';font-size:99.99px;fill:#000000\" transform=\"rotate(-90 300.72,338.71)\" text-anchor=\"middle\">.8</text>\n",
       "\t<text x=\"190.71\" y=\"1325.03\" style=\"font-family:'Helvetica';font-size:99.99px;fill:#000000\" transform=\"rotate(-90 190.71,1325.03)\" text-anchor=\"middle\">Density</text>\n",
       "\t<line x1=\"390.80\" y1=\"2374.71\" x2=\"3859.02\" y2=\"2374.71\" style=\"stroke:#000000;stroke-width:5.76\"/>\n",
       "\t<line x1=\"540.04\" y1=\"2374.71\" x2=\"540.04\" y2=\"2414.69\" style=\"stroke:#000000;stroke-width:5.76\"/>\n",
       "\t<text x=\"540.04\" y=\"2504.54\" style=\"font-family:'Helvetica';font-size:99.99px;fill:#000000\" text-anchor=\"middle\">0</text>\n",
       "\t<line x1=\"1353.95\" y1=\"2374.71\" x2=\"1353.95\" y2=\"2414.69\" style=\"stroke:#000000;stroke-width:5.76\"/>\n",
       "\t<text x=\"1353.95\" y=\"2504.54\" style=\"font-family:'Helvetica';font-size:99.99px;fill:#000000\" text-anchor=\"middle\">1</text>\n",
       "\t<line x1=\"2167.85\" y1=\"2374.71\" x2=\"2167.85\" y2=\"2414.69\" style=\"stroke:#000000;stroke-width:5.76\"/>\n",
       "\t<text x=\"2167.85\" y=\"2504.54\" style=\"font-family:'Helvetica';font-size:99.99px;fill:#000000\" text-anchor=\"middle\">2</text>\n",
       "\t<line x1=\"2981.76\" y1=\"2374.71\" x2=\"2981.76\" y2=\"2414.69\" style=\"stroke:#000000;stroke-width:5.76\"/>\n",
       "\t<text x=\"2981.76\" y=\"2504.54\" style=\"font-family:'Helvetica';font-size:99.99px;fill:#000000\" text-anchor=\"middle\">3</text>\n",
       "\t<line x1=\"3795.66\" y1=\"2374.71\" x2=\"3795.66\" y2=\"2414.69\" style=\"stroke:#000000;stroke-width:5.76\"/>\n",
       "\t<text x=\"3795.66\" y=\"2504.54\" style=\"font-family:'Helvetica';font-size:99.99px;fill:#000000\" text-anchor=\"middle\">4</text>\n",
       "\t<text x=\"2124.91\" y=\"2614.56\" style=\"font-family:'Helvetica';font-size:99.99px;fill:#000000\" text-anchor=\"middle\">lnwage</text>\n",
       "\t<text x=\"408.00\" y=\"2737.89\" style=\"font-family:'Helvetica';font-size:79.94px;fill:#000000\">kernel = epanechnikov, bandwidth = 0.1105</text>\n",
       "\t<text x=\"2124.91\" y=\"215.98\" style=\"font-family:'Helvetica';font-size:139.96px;fill:#1E2D53\" text-anchor=\"middle\">Kernel density estimate</text>\n",
       "</svg>\n"
      ],
      "text/html": [
       "                <iframe frameborder=\"0\" scrolling=\"no\" height=\"436\" width=\"600\"                srcdoc=\"<html><body>&lt;?xml version=&quot;1.0&quot; encoding=&quot;UTF-8&quot; standalone=&quot;no&quot;?&gt;\n",
       "&lt;!-- This is a Stata 15.1 generated SVG file (http://www.stata.com) --&gt;\n",
       "\n",
       "&lt;svg version=&quot;1.1&quot; width=&quot;600px&quot; height=&quot;436px&quot; viewBox=&quot;0 0 3960 2880&quot; xmlns=&quot;http://www.w3.org/2000/svg&quot; xmlns:xlink=&quot;http://www.w3.org/1999/xlink&quot;&gt;\n",
       "\t&lt;desc&gt;Stata Graph - Graph&lt;/desc&gt;\n",
       "\t&lt;rect x=&quot;0&quot; y=&quot;0&quot; width=&quot;3960&quot; height=&quot;2880&quot; style=&quot;fill:#EAF2F3;stroke:none&quot;/&gt;\n",
       "\t&lt;rect x=&quot;0.00&quot; y=&quot;0.00&quot; width=&quot;3959.88&quot; height=&quot;2880.00&quot; style=&quot;fill:#EAF2F3&quot;/&gt;\n",
       "\t&lt;rect x=&quot;2.88&quot; y=&quot;2.88&quot; width=&quot;3954.12&quot; height=&quot;2874.24&quot; style=&quot;fill:none;stroke:#EAF2F3;stroke-width:5.76&quot;/&gt;\n",
       "\t&lt;rect x=&quot;390.80&quot; y=&quot;275.35&quot; width=&quot;3468.22&quot; height=&quot;2099.36&quot; style=&quot;fill:#FFFFFF&quot;/&gt;\n",
       "\t&lt;rect x=&quot;393.68&quot; y=&quot;278.23&quot; width=&quot;3462.46&quot; height=&quot;2093.60&quot; style=&quot;fill:none;stroke:#FFFFFF;stroke-width:5.76&quot;/&gt;\n",
       "\t&lt;line x1=&quot;390.80&quot; y1=&quot;2311.35&quot; x2=&quot;3859.02&quot; y2=&quot;2311.35&quot; style=&quot;stroke:#EAF2F3;stroke-width:8.64&quot;/&gt;\n",
       "\t&lt;line x1=&quot;390.80&quot; y1=&quot;1818.19&quot; x2=&quot;3859.02&quot; y2=&quot;1818.19&quot; style=&quot;stroke:#EAF2F3;stroke-width:8.64&quot;/&gt;\n",
       "\t&lt;line x1=&quot;390.80&quot; y1=&quot;1325.03&quot; x2=&quot;3859.02&quot; y2=&quot;1325.03&quot; style=&quot;stroke:#EAF2F3;stroke-width:8.64&quot;/&gt;\n",
       "\t&lt;line x1=&quot;390.80&quot; y1=&quot;831.87&quot; x2=&quot;3859.02&quot; y2=&quot;831.87&quot; style=&quot;stroke:#EAF2F3;stroke-width:8.64&quot;/&gt;\n",
       "\t&lt;path d=&quot; M454.04 2306.40 L519.25 2303.06 L584.47 2301.82 L649.56 2299.72 L714.78 2297.74 L779.87 2289.94 L845.09 2279.17 L910.30 2259.50 L975.40 2237.22 L1040.61 2220.39 L1105.83 2199.97 L1170.92 2156.04 L1236.14 2023.00 L1301.23 1841.46 L1366.45 1618.58 L1431.66 1427.13 L1496.76 1290.75 L1561.97 1172.20 L1627.19 1065.89 L1692.28 937.06 L1757.50 815.66 L1822.59 722.10 L1887.81 684.98 L1953.02 652.18 L2018.12 670.37 L2083.33 693.76 L2148.55 750.20 L2213.64 824.20 L2278.86 870.11 L2343.95 908.72 L2409.16 962.19 L2474.38 1054.51 L2539.47 1228.88 L2604.69 1454.48 L2669.91 1664.12 L2735.00 1837.87 L2800.22 1954.57 L2865.43 2035.50 L2930.52 2110.25 L2995.74 2170.52 L3060.83 2212.10 L3126.05 2228.44 L3191.26 2233.39 L3256.36 2237.22 L3321.57 2238.58 L3386.79 2211.36 L3451.88 2190.44 L3517.10 2193.41 L3582.19 2211.73 L3647.41 2246.88&quot; stroke-linecap=&quot;round&quot; stroke-linejoin=&quot;round&quot; style=&quot;fill:none;stroke:#1A476F;stroke-width:8.64&quot;/&gt;\n",
       "\t&lt;line x1=&quot;390.80&quot; y1=&quot;2374.71&quot; x2=&quot;390.80&quot; y2=&quot;275.35&quot; style=&quot;stroke:#000000;stroke-width:5.76&quot;/&gt;\n",
       "\t&lt;line x1=&quot;390.80&quot; y1=&quot;2311.35&quot; x2=&quot;350.83&quot; y2=&quot;2311.35&quot; style=&quot;stroke:#000000;stroke-width:5.76&quot;/&gt;\n",
       "\t&lt;text x=&quot;300.72&quot; y=&quot;2311.35&quot; style=&quot;font-family:&#x27;Helvetica&#x27;;font-size:99.99px;fill:#000000&quot; transform=&quot;rotate(-90 300.72,2311.35)&quot; text-anchor=&quot;middle&quot;&gt;0&lt;/text&gt;\n",
       "\t&lt;line x1=&quot;390.80&quot; y1=&quot;1818.19&quot; x2=&quot;350.83&quot; y2=&quot;1818.19&quot; style=&quot;stroke:#000000;stroke-width:5.76&quot;/&gt;\n",
       "\t&lt;text x=&quot;300.72&quot; y=&quot;1818.19&quot; style=&quot;font-family:&#x27;Helvetica&#x27;;font-size:99.99px;fill:#000000&quot; transform=&quot;rotate(-90 300.72,1818.19)&quot; text-anchor=&quot;middle&quot;&gt;.2&lt;/text&gt;\n",
       "\t&lt;line x1=&quot;390.80&quot; y1=&quot;1325.03&quot; x2=&quot;350.83&quot; y2=&quot;1325.03&quot; style=&quot;stroke:#000000;stroke-width:5.76&quot;/&gt;\n",
       "\t&lt;text x=&quot;300.72&quot; y=&quot;1325.03&quot; style=&quot;font-family:&#x27;Helvetica&#x27;;font-size:99.99px;fill:#000000&quot; transform=&quot;rotate(-90 300.72,1325.03)&quot; text-anchor=&quot;middle&quot;&gt;.4&lt;/text&gt;\n",
       "\t&lt;line x1=&quot;390.80&quot; y1=&quot;831.87&quot; x2=&quot;350.83&quot; y2=&quot;831.87&quot; style=&quot;stroke:#000000;stroke-width:5.76&quot;/&gt;\n",
       "\t&lt;text x=&quot;300.72&quot; y=&quot;831.87&quot; style=&quot;font-family:&#x27;Helvetica&#x27;;font-size:99.99px;fill:#000000&quot; transform=&quot;rotate(-90 300.72,831.87)&quot; text-anchor=&quot;middle&quot;&gt;.6&lt;/text&gt;\n",
       "\t&lt;line x1=&quot;390.80&quot; y1=&quot;338.71&quot; x2=&quot;350.83&quot; y2=&quot;338.71&quot; style=&quot;stroke:#000000;stroke-width:5.76&quot;/&gt;\n",
       "\t&lt;text x=&quot;300.72&quot; y=&quot;338.71&quot; style=&quot;font-family:&#x27;Helvetica&#x27;;font-size:99.99px;fill:#000000&quot; transform=&quot;rotate(-90 300.72,338.71)&quot; text-anchor=&quot;middle&quot;&gt;.8&lt;/text&gt;\n",
       "\t&lt;text x=&quot;190.71&quot; y=&quot;1325.03&quot; style=&quot;font-family:&#x27;Helvetica&#x27;;font-size:99.99px;fill:#000000&quot; transform=&quot;rotate(-90 190.71,1325.03)&quot; text-anchor=&quot;middle&quot;&gt;Density&lt;/text&gt;\n",
       "\t&lt;line x1=&quot;390.80&quot; y1=&quot;2374.71&quot; x2=&quot;3859.02&quot; y2=&quot;2374.71&quot; style=&quot;stroke:#000000;stroke-width:5.76&quot;/&gt;\n",
       "\t&lt;line x1=&quot;540.04&quot; y1=&quot;2374.71&quot; x2=&quot;540.04&quot; y2=&quot;2414.69&quot; style=&quot;stroke:#000000;stroke-width:5.76&quot;/&gt;\n",
       "\t&lt;text x=&quot;540.04&quot; y=&quot;2504.54&quot; style=&quot;font-family:&#x27;Helvetica&#x27;;font-size:99.99px;fill:#000000&quot; text-anchor=&quot;middle&quot;&gt;0&lt;/text&gt;\n",
       "\t&lt;line x1=&quot;1353.95&quot; y1=&quot;2374.71&quot; x2=&quot;1353.95&quot; y2=&quot;2414.69&quot; style=&quot;stroke:#000000;stroke-width:5.76&quot;/&gt;\n",
       "\t&lt;text x=&quot;1353.95&quot; y=&quot;2504.54&quot; style=&quot;font-family:&#x27;Helvetica&#x27;;font-size:99.99px;fill:#000000&quot; text-anchor=&quot;middle&quot;&gt;1&lt;/text&gt;\n",
       "\t&lt;line x1=&quot;2167.85&quot; y1=&quot;2374.71&quot; x2=&quot;2167.85&quot; y2=&quot;2414.69&quot; style=&quot;stroke:#000000;stroke-width:5.76&quot;/&gt;\n",
       "\t&lt;text x=&quot;2167.85&quot; y=&quot;2504.54&quot; style=&quot;font-family:&#x27;Helvetica&#x27;;font-size:99.99px;fill:#000000&quot; text-anchor=&quot;middle&quot;&gt;2&lt;/text&gt;\n",
       "\t&lt;line x1=&quot;2981.76&quot; y1=&quot;2374.71&quot; x2=&quot;2981.76&quot; y2=&quot;2414.69&quot; style=&quot;stroke:#000000;stroke-width:5.76&quot;/&gt;\n",
       "\t&lt;text x=&quot;2981.76&quot; y=&quot;2504.54&quot; style=&quot;font-family:&#x27;Helvetica&#x27;;font-size:99.99px;fill:#000000&quot; text-anchor=&quot;middle&quot;&gt;3&lt;/text&gt;\n",
       "\t&lt;line x1=&quot;3795.66&quot; y1=&quot;2374.71&quot; x2=&quot;3795.66&quot; y2=&quot;2414.69&quot; style=&quot;stroke:#000000;stroke-width:5.76&quot;/&gt;\n",
       "\t&lt;text x=&quot;3795.66&quot; y=&quot;2504.54&quot; style=&quot;font-family:&#x27;Helvetica&#x27;;font-size:99.99px;fill:#000000&quot; text-anchor=&quot;middle&quot;&gt;4&lt;/text&gt;\n",
       "\t&lt;text x=&quot;2124.91&quot; y=&quot;2614.56&quot; style=&quot;font-family:&#x27;Helvetica&#x27;;font-size:99.99px;fill:#000000&quot; text-anchor=&quot;middle&quot;&gt;lnwage&lt;/text&gt;\n",
       "\t&lt;text x=&quot;408.00&quot; y=&quot;2737.89&quot; style=&quot;font-family:&#x27;Helvetica&#x27;;font-size:79.94px;fill:#000000&quot;&gt;kernel = epanechnikov, bandwidth = 0.1105&lt;/text&gt;\n",
       "\t&lt;text x=&quot;2124.91&quot; y=&quot;215.98&quot; style=&quot;font-family:&#x27;Helvetica&#x27;;font-size:139.96px;fill:#1E2D53&quot; text-anchor=&quot;middle&quot;&gt;Kernel density estimate&lt;/text&gt;\n",
       "&lt;/svg&gt;\n",
       "</body></html>\"></iframe>\n"
      ],
      "text/plain": [
       "This front-end cannot display the desired image type."
      ]
     },
     "metadata": {
      "image/svg+xml": {
       "height": 436,
       "width": 600
      },
      "text/html": {
       "height": 436,
       "width": 600
      }
     },
     "output_type": "display_data"
    }
   ],
   "source": [
    "kdensity lnwage"
   ]
  },
  {
   "cell_type": "code",
   "execution_count": null,
   "metadata": {},
   "outputs": [],
   "source": []
  }
 ],
 "metadata": {
  "kernelspec": {
   "display_name": "Stata",
   "language": "stata",
   "name": "stata"
  },
  "language_info": {
   "codemirror_mode": "stata",
   "file_extension": ".do",
   "mimetype": "text/x-stata",
   "name": "stata",
   "version": "15.1"
  }
 },
 "nbformat": 4,
 "nbformat_minor": 2
}
